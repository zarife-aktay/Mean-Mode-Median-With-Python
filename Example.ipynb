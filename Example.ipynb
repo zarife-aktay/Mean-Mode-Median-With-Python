{
 "cells": [
  {
   "cell_type": "code",
   "execution_count": 21,
   "id": "bb53eda4",
   "metadata": {},
   "outputs": [],
   "source": [
    "import numpy as np\n",
    "import pandas as pd \n",
    "from statistics import mean, median, mode, stdev "
   ]
  },
  {
   "cell_type": "code",
   "execution_count": 22,
   "id": "abd911b1",
   "metadata": {},
   "outputs": [
    {
     "data": {
      "text/plain": [
       "array([ 60,  83,  86,  83, 100])"
      ]
     },
     "execution_count": 22,
     "metadata": {},
     "output_type": "execute_result"
    }
   ],
   "source": [
    "test_datas=np.array([60,83,86,83,100])\n",
    "test_datas"
   ]
  },
  {
   "cell_type": "code",
   "execution_count": 23,
   "id": "357814a6",
   "metadata": {},
   "outputs": [
    {
     "name": "stdout",
     "output_type": "stream",
     "text": [
      "Mean 82.4\n"
     ]
    }
   ],
   "source": [
    "print(\"Mean\", np.mean(test_datas));"
   ]
  },
  {
   "cell_type": "code",
   "execution_count": 24,
   "id": "8338fa4f",
   "metadata": {},
   "outputs": [
    {
     "name": "stdout",
     "output_type": "stream",
     "text": [
      "Mode 83\n"
     ]
    }
   ],
   "source": [
    "print(\"Mode\", mode(test_datas));"
   ]
  },
  {
   "cell_type": "code",
   "execution_count": 25,
   "id": "16d2cf2a",
   "metadata": {},
   "outputs": [
    {
     "name": "stdout",
     "output_type": "stream",
     "text": [
      "Median 83.0\n"
     ]
    }
   ],
   "source": [
    "print(\"Median\", np.median(test_datas));"
   ]
  },
  {
   "cell_type": "code",
   "execution_count": null,
   "id": "959658fb",
   "metadata": {},
   "outputs": [],
   "source": []
  }
 ],
 "metadata": {
  "kernelspec": {
   "display_name": "Python 3 (ipykernel)",
   "language": "python",
   "name": "python3"
  },
  "language_info": {
   "codemirror_mode": {
    "name": "ipython",
    "version": 3
   },
   "file_extension": ".py",
   "mimetype": "text/x-python",
   "name": "python",
   "nbconvert_exporter": "python",
   "pygments_lexer": "ipython3",
   "version": "3.9.13"
  }
 },
 "nbformat": 4,
 "nbformat_minor": 5
}
